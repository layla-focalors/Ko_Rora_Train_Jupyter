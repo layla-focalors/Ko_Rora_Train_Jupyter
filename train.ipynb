{
 "cells": [
  {
   "cell_type": "markdown",
   "metadata": {},
   "source": [
    "### Lora Trainer Remaked by layla-focalors  \n",
    "This is based on thr work of Hollowstrawberry. Thank you"
   ]
  },
  {
   "cell_type": "markdown",
   "metadata": {},
   "source": [
    "### Running Training"
   ]
  },
  {
   "cell_type": "code",
   "execution_count": 3,
   "metadata": {},
   "outputs": [],
   "source": [
    "import os\n",
    "import re\n",
    "import toml\n",
    "import shutil\n",
    "import zipfile\n",
    "from time import time\n",
    "\n",
    "# 프로젝트 이름은 이미지가 포함된 폴더와 동일합니다. 공백은 허용되지 않습니다.\n",
    "\n",
    "# 수정 가능\n",
    "PROJECT_NAME = 'Project'\n",
    "\n",
    "# 수정을 권장하지 않음\n",
    "FOLDER_STRUCTURE = f'/Loras/{PROJECT_NAME}/dataset'\n",
    "TRAINING_MODEL = 'https://huggingface.co/Lykon/AnyLoRA/resolve/main/AnyLoRA_noVae_fp16-pruned.ckpt'\n",
    "\n",
    "# 512의 해상도는 Stable Diffusion 1.5의 표준입니다. 고해상도 학습은 훨씬 느리지만 더 나은 세부 정보로 이어질 수 있습니다.\n",
    "\n",
    "# 최상의 결과를 얻기 위해 학습하는 동안 이미지의 크기가 자동으로 조정되므로 직접 자르거나 크기를 조정할 필요가 없습니다.\n",
    "\n",
    "RESOLUTION = 512\n",
    "\n",
    "# 이 옵션은 추가 비용 없이 이미지를 정상적으로 훈련하고 뒤집어 더 많은 것을 학습합니다. 이미지가 20개 미만인 경우 특별히 켜십시오.\n",
    "\n",
    "# Lora의 비대칭 요소에 관심이 있다면 끄십시오.\n",
    "\n",
    "FLIP_AUG = False\n",
    "\n",
    "# 이미지는 훈련 중에 이 횟수만큼 반복됩니다. 이미지에 반복을 곱한 값은 200에서 400 사이가 좋습니다.\n",
    "\n",
    "NUM_REPEATS = 10\n",
    "\n",
    "# 훈련할 기간을 선택합니다. 좋은 시작점은 약 10 epoch 또는 약 2000 단계입니다.\n",
    "\n",
    "# 하나의 Epoch는 이미지 수에 반복을 곱한 후 배치 크기로 나눈 값과 같은 단계입니다.\n",
    "\n",
    "PREFERRED_UNIT = 'Epoches'\n",
    "PREFFERED_DURATION = 10\n",
    "\n",
    "# 배치 크기를 늘리면 학습 속도가 빨라지지만 학습 속도가 느려질 수 있습니다. 권장 2 또는 3.\n",
    "\n",
    "TRAIN_BATCH_SIZE = 2\n",
    "\n",
    "# 학습률은 결과에 가장 중요합니다. 영상이 많을 때 더 느리게 훈련시키고 싶거나 dim과 alpha가 높은 경우에는 unet을 2e-4 이하로 옮기십시오.\n",
    "\n",
    "# 텍스트 인코더는 Lora가 개념을 약간 더 잘 배울 수 있도록 도와줍니다. unet의 절반 또는 5 분의 1로 만드는 것이 좋습니다. 스타일을 훈련하는 경우 0으로 설정할 수도 있습니다.\n",
    "\n",
    "UNET_LR = '5e-4'\n",
    "TEXT_ENCODER_LR = '1e-4'\n",
    "\n",
    "# Code\n",
    "# Create Config\n",
    "\n",
    "\n",
    "    \n",
    "\n",
    "\n",
    "\n",
    "\n"
   ]
  },
  {
   "cell_type": "markdown",
   "metadata": {},
   "source": []
  }
 ],
 "metadata": {
  "kernelspec": {
   "display_name": "Python 3",
   "language": "python",
   "name": "python3"
  },
  "language_info": {
   "codemirror_mode": {
    "name": "ipython",
    "version": 3
   },
   "file_extension": ".py",
   "mimetype": "text/x-python",
   "name": "python",
   "nbconvert_exporter": "python",
   "pygments_lexer": "ipython3",
   "version": "3.10.6"
  }
 },
 "nbformat": 4,
 "nbformat_minor": 2
}
